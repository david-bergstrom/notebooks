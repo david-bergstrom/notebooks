version https://git-lfs.github.com/spec/v1
oid sha256:e62d051b2fe1ddc55963b86bc30dbddb1a25de4c773e83f798df06079d4b6b25
size 95903
