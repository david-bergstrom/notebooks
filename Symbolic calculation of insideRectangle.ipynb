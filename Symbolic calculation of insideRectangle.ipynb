version https://git-lfs.github.com/spec/v1
oid sha256:d7fbbe5c2a1a25b62b5ed7406d164aac36a8bdf10feea16d324f19f69413fccb
size 95513
